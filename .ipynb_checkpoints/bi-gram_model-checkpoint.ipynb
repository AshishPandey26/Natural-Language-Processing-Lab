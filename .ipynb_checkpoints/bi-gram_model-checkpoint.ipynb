{
 "cells": [
  {
   "cell_type": "code",
   "execution_count": 7,
   "id": "a02bd3b9-fd4b-4bcf-8be1-a52e12ac4cd1",
   "metadata": {},
   "outputs": [
    {
     "name": "stdout",
     "output_type": "stream",
     "text": [
      "Word Frequencies:\n",
      "The: 1\n",
      "cat: 1\n",
      "ate: 1\n",
      "a: 3\n",
      "fish.: 2\n",
      "Cat: 2\n",
      "saw: 2\n",
      "bird: 1\n",
      "fly.: 1\n",
      "\n",
      "Bigram Probabilities:\n",
      "P(cat | The) = 1.00\n",
      "P(ate | cat) = 1.00\n",
      "P(a | ate) = 1.00\n",
      "P(fish. | a) = 0.67\n",
      "P(Cat | fish.) = 0.50\n",
      "P(saw | Cat) = 1.00\n",
      "P(a | saw) = 1.00\n",
      "P(bird | a) = 0.33\n",
      "P(fly. | bird) = 1.00\n",
      "P(Cat | fly.) = 1.00\n"
     ]
    }
   ],
   "source": [
    "\n",
    "# text = \"I less like natural language processing. I do do do do not like coding anymore sorry programming. \"\n",
    "text = \"The cat ate a fish. Cat saw a bird fly. Cat saw a fish.\"\n",
    "\n",
    "tokens = text.split()\n",
    "\n",
    "word_counts = {}\n",
    "for word in tokens:\n",
    "    if word in word_counts:\n",
    "        word_counts[word] += 1\n",
    "    else:\n",
    "        word_counts[word] = 1\n",
    "\n",
    "bigrams = [(tokens[i], tokens[i+1]) for i in range(len(tokens) - 1)]\n",
    "\n",
    "bigram_counts = {}\n",
    "for bigram in bigrams:\n",
    "    if bigram in bigram_counts:\n",
    "        bigram_counts[bigram] += 1\n",
    "    else:\n",
    "        bigram_counts[bigram] = 1\n",
    "\n",
    "bigram_probabilities = {}\n",
    "for bigram, count in bigram_counts.items():\n",
    "    previous_word = bigram[0]\n",
    "    bigram_probabilities[bigram] = count / word_counts[previous_word]\n",
    "\n",
    "print(\"Word Frequencies:\")\n",
    "for word, count in word_counts.items():\n",
    "    print(f\"{word}: {count}\")\n",
    "\n",
    "print(\"\\nBigram Probabilities:\")\n",
    "for bigram, prob in bigram_probabilities.items():\n",
    "    print(f\"P({bigram[1]} | {bigram[0]}) = {prob:.2f}\")\n"
   ]
  },
  {
   "cell_type": "code",
   "execution_count": 8,
   "id": "ebf6ee11-4292-426f-a6ae-983df38391da",
   "metadata": {},
   "outputs": [
    {
     "name": "stdout",
     "output_type": "stream",
     "text": [
      "Word Frequencies:\n",
      "The: 1\n",
      "cat: 1\n",
      "ate: 1\n",
      "a: 3\n",
      "fish.: 2\n",
      "Cat: 2\n",
      "saw: 2\n",
      "bird: 1\n",
      "fly.: 1\n",
      "\n",
      "Bigram Probabilities:\n",
      "P(cat | The) = 1.00\n",
      "P(ate | cat) = 1.00\n",
      "P(a | ate) = 1.00\n",
      "P(fish. | a) = 0.67\n",
      "P(Cat | fish.) = 0.50\n",
      "P(saw | Cat) = 1.00\n",
      "P(a | saw) = 1.00\n",
      "P(bird | a) = 0.33\n",
      "P(fly. | bird) = 1.00\n",
      "P(Cat | fly.) = 1.00\n"
     ]
    }
   ],
   "source": [
    "from collections import defaultdict, Counter\n",
    "\n",
    "text = \"The cat ate a fish. Cat saw a bird fly. Cat saw a fish.\"\n",
    "tokens = text.split()\n",
    "\n",
    "word_counts = Counter(tokens)\n",
    "\n",
    "bigrams = [(tokens[i], tokens[i+1]) for i in range(len(tokens) - 1)]\n",
    "\n",
    "bigram_counts = Counter(bigrams)\n",
    "\n",
    "bigram_probabilities = {bigram: count / word_counts[bigram[0]] for bigram, count in bigram_counts.items()}\n",
    "\n",
    "print(\"Word Frequencies:\")\n",
    "for word, count in word_counts.items():\n",
    "    print(f\"{word}: {count}\")\n",
    "\n",
    "print(\"\\nBigram Probabilities:\")\n",
    "for bigram, prob in bigram_probabilities.items():\n",
    "    print(f\"P({bigram[1]} | {bigram[0]}) = {prob:.2f}\")\n"
   ]
  }
 ],
 "metadata": {
  "kernelspec": {
   "display_name": "Python 3 (ipykernel)",
   "language": "python",
   "name": "python3"
  },
  "language_info": {
   "codemirror_mode": {
    "name": "ipython",
    "version": 3
   },
   "file_extension": ".py",
   "mimetype": "text/x-python",
   "name": "python",
   "nbconvert_exporter": "python",
   "pygments_lexer": "ipython3",
   "version": "3.12.8"
  }
 },
 "nbformat": 4,
 "nbformat_minor": 5
}
