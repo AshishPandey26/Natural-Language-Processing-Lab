{
 "cells": [
  {
   "cell_type": "code",
   "execution_count": 6,
   "id": "7bf09362-61b3-42d7-a627-9037e7452169",
   "metadata": {},
   "outputs": [
    {
     "name": "stdout",
     "output_type": "stream",
     "text": [
      "Word Frequency:\n",
      "python: 3\n",
      "is: 3\n",
      "amazing: 1\n",
      "easy: 1\n",
      "to: 1\n",
      "learn: 1\n",
      "and: 1\n",
      "powerful: 1\n"
     ]
    }
   ],
   "source": [
    "from collections import Counter\n",
    "import re\n",
    "\n",
    "text = \"\"\"\n",
    "Python is amazing. Python is easy to learn, and Python is powerful.\n",
    "\"\"\"\n",
    "\n",
    "words = re.findall(r'\\b\\w+\\b', text.lower())\n",
    "\n",
    "word_freq = Counter(words)\n",
    "\n",
    "print(\"Word Frequency:\")\n",
    "for word, freq in word_freq.items():\n",
    "    print(f\"{word}: {freq}\")\n"
   ]
  },
  {
   "cell_type": "code",
   "execution_count": 37,
   "id": "ef3d3b10-ec08-46f9-a1ce-2dfb6e14b0b1",
   "metadata": {},
   "outputs": [
    {
     "data": {
      "text/plain": [
       "{'python': 3,\n",
       " 'is': 3,\n",
       " 'amazing.': 1,\n",
       " 'easy': 1,\n",
       " 'to': 1,\n",
       " 'learn,': 1,\n",
       " 'and': 1,\n",
       " 'powerful.': 1}"
      ]
     },
     "execution_count": 37,
     "metadata": {},
     "output_type": "execute_result"
    }
   ],
   "source": [
    "text = \"\"\"\n",
    "Python is amazing. Python is easy to learn, and Python is powerful.\n",
    "\"\"\"\n",
    "\n",
    "tkn = text.split()\n",
    "lower_tkn= [word.lower() for word in tkn]\n",
    "lower_tkn\n",
    "\n",
    "# word.strip('.,?!')\n",
    "lower_tkn\n",
    "a = {}\n",
    "for word in lower_tkn:\n",
    "    if word in a:\n",
    "        a[word] += 1\n",
    "    else:\n",
    "        a[word] = 1\n",
    "a"
   ]
  },
  {
   "cell_type": "code",
   "execution_count": null,
   "id": "8cd5ea7f-766f-455d-bc54-233f788274fc",
   "metadata": {},
   "outputs": [],
   "source": []
  }
 ],
 "metadata": {
  "kernelspec": {
   "display_name": "Python 3 (ipykernel)",
   "language": "python",
   "name": "python3"
  },
  "language_info": {
   "codemirror_mode": {
    "name": "ipython",
    "version": 3
   },
   "file_extension": ".py",
   "mimetype": "text/x-python",
   "name": "python",
   "nbconvert_exporter": "python",
   "pygments_lexer": "ipython3",
   "version": "3.12.8"
  }
 },
 "nbformat": 4,
 "nbformat_minor": 5
}
