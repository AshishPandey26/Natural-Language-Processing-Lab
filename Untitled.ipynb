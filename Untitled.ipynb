{
 "cells": [
  {
   "cell_type": "code",
   "execution_count": null,
   "id": "f412cd93-8a2b-4f00-b907-31605e89d11a",
   "metadata": {},
   "outputs": [],
   "source": [
    "#Convert Text into Tokens"
   ]
  },
  {
   "cell_type": "code",
   "execution_count": 1,
   "id": "5003df32-5280-40cb-950b-8b94fb2e8f92",
   "metadata": {},
   "outputs": [
    {
     "name": "stdout",
     "output_type": "stream",
     "text": [
      "Defaulting to user installation because normal site-packages is not writeable\n",
      "Note: you may need to restart the kernel to use updated packages.\n"
     ]
    },
    {
     "name": "stderr",
     "output_type": "stream",
     "text": [
      "ERROR: Could not find a version that satisfies the requirement re (from versions: none)\n",
      "ERROR: No matching distribution found for re\n"
     ]
    }
   ],
   "source": [
    "pip install re"
   ]
  },
  {
   "cell_type": "code",
   "execution_count": 13,
   "id": "72f81fbd-f22e-4359-afc8-d0b5e02008b3",
   "metadata": {},
   "outputs": [
    {
     "name": "stdout",
     "output_type": "stream",
     "text": [
      "Word Tokens: ['Hello', 'Today', 'is', 'Wednesday', '1']\n",
      "Word Tokens: ['H', 'e', 'l', 'l', 'o', 'T', 'o', 'd', 'a', 'y', 'i', 's', 'W', 'e', 'd', 'n', 'e', 's', 'd', 'a', 'y', '1']\n",
      "Word Tokens: [' ', ' ', ' ', ' ']\n",
      "Word Tokens: ['H', 'e', 'l', 'l', 'o', ',', 'T', 'o', 'd', 'a', 'y', 'i', 's', 'W', 'e', 'd', 'n', 'e', 's', 'd', 'a', 'y', '1']\n",
      "Word Tokens: ['1']\n",
      "Word Tokens: ['H', 'T', 'W']\n",
      "Word Tokens: ['e', 'l', 'l', 'o', 'o', 'd', 'a', 'y', 'i', 's', 'e', 'd', 'n', 'e', 's', 'd', 'a', 'y']\n"
     ]
    }
   ],
   "source": [
    "import re\n",
    "\n",
    "text = \"Hello, Today is Wednesday 1\"\n",
    "word_tokens = re.findall(r'\\w+', text)   # word\n",
    "print(\"Word Tokens:\", word_tokens)\n",
    "\n",
    "word_tokens = re.findall(r'\\w', text) # letter\n",
    "print(\"Word Tokens:\", word_tokens)\n",
    "\n",
    "word_tokens = re.findall(r'\\s', text) # space\n",
    "print(\"Word Tokens:\", word_tokens)\n",
    "\n",
    "word_tokens = re.findall(r'\\S', text) # all character\n",
    "print(\"Word Tokens:\", word_tokens)\n",
    "\n",
    "word_tokens = re.findall(r'\\d', text) # all digits\n",
    "print(\"Word Tokens:\", word_tokens)\n",
    "\n",
    "word_tokens = re.findall(r'[A-Z]', text) # all between A to Z\n",
    "print(\"Word Tokens:\", word_tokens)\n",
    "\n",
    "word_tokens = re.findall(r'[a-z]', text) # all between a to z\n",
    "print(\"Word Tokens:\", word_tokens)\n"
   ]
  }
 ],
 "metadata": {
  "kernelspec": {
   "display_name": "Python 3 (ipykernel)",
   "language": "python",
   "name": "python3"
  },
  "language_info": {
   "codemirror_mode": {
    "name": "ipython",
    "version": 3
   },
   "file_extension": ".py",
   "mimetype": "text/x-python",
   "name": "python",
   "nbconvert_exporter": "python",
   "pygments_lexer": "ipython3",
   "version": "3.12.8"
  }
 },
 "nbformat": 4,
 "nbformat_minor": 5
}
