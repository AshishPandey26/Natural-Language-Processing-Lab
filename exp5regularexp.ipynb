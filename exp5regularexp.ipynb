{
 "cells": [
  {
   "cell_type": "code",
   "execution_count": 3,
   "id": "5c15b833-e2b0-4687-bd68-95a96bce5974",
   "metadata": {},
   "outputs": [
    {
     "name": "stdin",
     "output_type": "stream",
     "text": [
      "Enter text to generate regex pattern:  dhsh12@fjf\n"
     ]
    },
    {
     "name": "stdout",
     "output_type": "stream",
     "text": [
      "Generated Regex Pattern: dhsh12@fjf\n"
     ]
    }
   ],
   "source": [
    "import re\n",
    "\n",
    "user_input = input(\"Enter text to generate regex pattern: \")\n",
    "\n",
    "# Escape special characters except spaces, digits, and words\n",
    "pattern = re.escape(user_input)\n",
    "pattern = re.sub(r'\\\\s+', r'\\\\s+', pattern)  # Replace spaces with \\s+\n",
    "pattern = re.sub(r'\\\\d+', r'\\\\d+', pattern)  # Replace digits with \\d+\n",
    "pattern = re.sub(r'\\\\w+', r'\\\\w+', pattern)  # Replace words with \\w+\n",
    "\n",
    "print(\"Generated Regex Pattern:\", pattern)\n"
   ]
  }
 ],
 "metadata": {
  "kernelspec": {
   "display_name": "Python 3 (ipykernel)",
   "language": "python",
   "name": "python3"
  },
  "language_info": {
   "codemirror_mode": {
    "name": "ipython",
    "version": 3
   },
   "file_extension": ".py",
   "mimetype": "text/x-python",
   "name": "python",
   "nbconvert_exporter": "python",
   "pygments_lexer": "ipython3",
   "version": "3.12.8"
  }
 },
 "nbformat": 4,
 "nbformat_minor": 5
}
